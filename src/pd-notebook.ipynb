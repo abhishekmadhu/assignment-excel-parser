{
 "cells": [
  {
   "cell_type": "code",
   "execution_count": 1,
   "metadata": {},
   "outputs": [],
   "source": [
    "import pandas as pd\n",
    "import numpy as np"
   ]
  },
  {
   "cell_type": "code",
   "execution_count": 2,
   "metadata": {},
   "outputs": [],
   "source": [
    "def find_starting_row_col(dataframe):\n",
    "    for index, row in dataframe.iterrows():\n",
    "#         print 'new'\n",
    "#         print row\n",
    "        for i in range(len(row)):\n",
    "#             print val\n",
    "            if row[i] == 'LineNumber':\n",
    "#                 print 'LineNumber! Row:', index, ' and col: ', i\n",
    "                return index, i\n",
    "            "
   ]
  },
  {
   "cell_type": "code",
   "execution_count": null,
   "metadata": {},
   "outputs": [],
   "source": [
    "def get_headers(dataframe):\n",
    "    "
   ]
  },
  {
   "cell_type": "code",
   "execution_count": 3,
   "metadata": {},
   "outputs": [
    {
     "name": "stdout",
     "output_type": "stream",
     "text": [
      "Index([u'Unnamed: 0', u'Unnamed: 1', u'Unnamed: 2', u'Unnamed: 3',\n",
      "       u'Unnamed: 4', u'Unnamed: 5', u'Unnamed: 6'],\n",
      "      dtype='object')\n",
      "(13, 7)\n",
      "PartNumber\n"
     ]
    }
   ],
   "source": [
    "data = pd.read_excel('../ToParse_Python.xlsx')\n",
    "# print data\n",
    "print data.keys()\n",
    "\n",
    "print data.shape\n",
    "\n",
    "print data.iloc[7,3]"
   ]
  },
  {
   "cell_type": "code",
   "execution_count": 4,
   "metadata": {},
   "outputs": [
    {
     "name": "stdout",
     "output_type": "stream",
     "text": [
      "7 2\n"
     ]
    }
   ],
   "source": [
    "start_row, start_col = find_starting_row_col(data)\n",
    "print start_row, start_col"
   ]
  },
  {
   "cell_type": "code",
   "execution_count": 5,
   "metadata": {},
   "outputs": [
    {
     "name": "stdout",
     "output_type": "stream",
     "text": [
      "Index([u'Unnamed: 2', u'Unnamed: 3', u'Unnamed: 4', u'Unnamed: 5',\n",
      "       u'Unnamed: 6'],\n",
      "      dtype='object')\n"
     ]
    }
   ],
   "source": [
    "new_data = data.iloc[start_row:, start_col:]\n",
    "# print new_data\n",
    "print new_data.keys()\n"
   ]
  },
  {
   "cell_type": "code",
   "execution_count": 6,
   "metadata": {},
   "outputs": [
    {
     "name": "stdout",
     "output_type": "stream",
     "text": [
      "keys are:  Index([u'LineNumber', u'PartNumber', u'Description', u'Item Type', u'Price'], dtype='object', name=7)\n"
     ]
    }
   ],
   "source": [
    "new_header = new_data.iloc[0]   # grab the first row for the header\n",
    "new_data = new_data[1:]         # take the data less the header row\n",
    "new_data.columns = new_header   # set the header row as the df header\n",
    "\n",
    "# print new_data\n",
    "print 'keys are: ', new_data.keys()\n",
    "\n"
   ]
  },
  {
   "cell_type": "code",
   "execution_count": 7,
   "metadata": {},
   "outputs": [
    {
     "data": {
      "text/plain": [
       "pandas.core.frame.DataFrame"
      ]
     },
     "execution_count": 7,
     "metadata": {},
     "output_type": "execute_result"
    }
   ],
   "source": [
    "type(new_data)"
   ]
  },
  {
   "cell_type": "code",
   "execution_count": 8,
   "metadata": {},
   "outputs": [
    {
     "data": {
      "text/plain": [
       "5"
      ]
     },
     "execution_count": 8,
     "metadata": {},
     "output_type": "execute_result"
    }
   ],
   "source": [
    "len(new_data)"
   ]
  },
  {
   "cell_type": "code",
   "execution_count": null,
   "metadata": {},
   "outputs": [],
   "source": []
  },
  {
   "cell_type": "code",
   "execution_count": 9,
   "metadata": {},
   "outputs": [
    {
     "data": {
      "text/plain": [
       "(7, 2)"
      ]
     },
     "execution_count": 9,
     "metadata": {},
     "output_type": "execute_result"
    }
   ],
   "source": []
  },
  {
   "cell_type": "code",
   "execution_count": null,
   "metadata": {},
   "outputs": [],
   "source": [
    "x = pd.DataFrame()"
   ]
  },
  {
   "cell_type": "code",
   "execution_count": null,
   "metadata": {},
   "outputs": [],
   "source": []
  }
 ],
 "metadata": {
  "kernelspec": {
   "display_name": "Python 2",
   "language": "python",
   "name": "python2"
  },
  "language_info": {
   "codemirror_mode": {
    "name": "ipython",
    "version": 2
   },
   "file_extension": ".py",
   "mimetype": "text/x-python",
   "name": "python",
   "nbconvert_exporter": "python",
   "pygments_lexer": "ipython2",
   "version": "2.7.16"
  }
 },
 "nbformat": 4,
 "nbformat_minor": 2
}
